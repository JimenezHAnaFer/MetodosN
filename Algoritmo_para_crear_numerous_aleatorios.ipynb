{
  "nbformat": 4,
  "nbformat_minor": 0,
  "metadata": {
    "colab": {
      "provenance": [],
      "authorship_tag": "ABX9TyOsIthTESMyxSNWkmEvw5Bp",
      "include_colab_link": true
    },
    "kernelspec": {
      "name": "python3",
      "display_name": "Python 3"
    },
    "language_info": {
      "name": "python"
    }
  },
  "cells": [
    {
      "cell_type": "markdown",
      "metadata": {
        "id": "view-in-github",
        "colab_type": "text"
      },
      "source": [
        "<a href=\"https://colab.research.google.com/github/JimenezHAnaFer/MetodosN/blob/main/Algoritmo_para_crear_numerous_aleatorios.ipynb\" target=\"_parent\"><img src=\"https://colab.research.google.com/assets/colab-badge.svg\" alt=\"Open In Colab\"/></a>"
      ]
    },
    {
      "cell_type": "markdown",
      "source": [
        "**Funcion Randit**"
      ],
      "metadata": {
        "id": "Bp3PVhujs-_2"
      }
    },
    {
      "cell_type": "code",
      "execution_count": null,
      "metadata": {
        "colab": {
          "base_uri": "https://localhost:8080/"
        },
        "id": "sb-odVrAqzmI",
        "outputId": "af946b2f-79a5-4f70-99eb-4eae6a9e435a"
      },
      "outputs": [
        {
          "output_type": "stream",
          "name": "stdout",
          "text": [
            "28\n"
          ]
        }
      ],
      "source": [
        "from random import *\n",
        "print(randint(0, 30))"
      ]
    },
    {
      "cell_type": "markdown",
      "source": [
        "**Funcion Choice**"
      ],
      "metadata": {
        "id": "ram1KUDhunUK"
      }
    },
    {
      "cell_type": "code",
      "source": [
        "from random import *\n",
        "print(choice([\"A\", \"B\", \"C\"]))"
      ],
      "metadata": {
        "colab": {
          "base_uri": "https://localhost:8080/"
        },
        "id": "PBCT1m0zu0qp",
        "outputId": "47873399-3c01-40a2-b12b-1161b9fe6ea8"
      },
      "execution_count": null,
      "outputs": [
        {
          "output_type": "stream",
          "name": "stdout",
          "text": [
            "B\n"
          ]
        }
      ]
    },
    {
      "cell_type": "markdown",
      "source": [
        "**Generar numeros aleatorios**"
      ],
      "metadata": {
        "id": "znttRHDPv1CL"
      }
    },
    {
      "cell_type": "code",
      "source": [
        "import random  # Importamos el módulo random para generar números aleatorios\n",
        "\n",
        "\n",
        "def generar_matriz(filas, columnas, min_val=0, max_val=100):\n",
        "    \"\"\"Genera una matriz de números aleatorios.\"\"\"\n",
        "    # Usamos una comprensión de listas para generar una matriz con valores aleatorios\n",
        "    matriz = [[random.randint(min_val, max_val) for _ in range(columnas)] for _ in range(filas)]\n",
        "    return matriz  # Retornamos la matriz generada\n",
        "\n",
        "\n",
        "def imprimir_matriz(matriz):\n",
        "    \"\"\"Imprime la matriz de forma legible.\"\"\"\n",
        "    # Iteramos sobre cada fila de la matriz para imprimirla de manera ordenada\n",
        "    for fila in matriz:\n",
        "        print(\"\\t\".join(map(str, fila)))  # Convertimos los números en texto y los separamos con tabulaciones\n",
        "\n",
        "# Parámetros de la matriz\n",
        "filas = 5  # Número de filas de la matriz\n",
        "columnas = 5  # Número de columnas de la matriz\n",
        "\n",
        "# Generar y mostrar la matriz\n",
        "matriz_aleatoria = generar_matriz(filas, columnas)  # Llamamos a la función para generar la matriz\n",
        "imprimir_matriz(matriz_aleatoria)  # Imprimimos la matriz generada"
      ],
      "metadata": {
        "colab": {
          "base_uri": "https://localhost:8080/"
        },
        "id": "R7JX90YpwJYn",
        "outputId": "833d21d1-6084-4780-9c06-481a8c6286f6"
      },
      "execution_count": null,
      "outputs": [
        {
          "output_type": "stream",
          "name": "stdout",
          "text": [
            "20\t10\t24\t65\t10\n",
            "37\t51\t4\t28\t23\n",
            "50\t22\t8\t2\t50\n",
            "23\t0\t55\t58\t65\n",
            "89\t48\t35\t70\t22\n"
          ]
        }
      ]
    },
    {
      "cell_type": "markdown",
      "source": [
        "**Generar numeros aleatorios sin repetir**"
      ],
      "metadata": {
        "id": "EOR6lEapINUf"
      }
    },
    {
      "cell_type": "code",
      "source": [
        "import random  # Importamos el módulo random para generar números aleatorios\n",
        "\n",
        "\n",
        "def generar_matriz(filas, columnas, min_val=0, max_val=100):\n",
        "    \"\"\"Genera una matriz de números aleatorios sin repeticiones.\"\"\"\n",
        "    total_numeros = filas * columnas  # Calculamos la cantidad total de números necesarios\n",
        "\n",
        "    # Verificamos que haya suficientes números únicos disponibles\n",
        "    if max_val - min_val + 1 < total_numeros:\n",
        "        raise ValueError(\"El rango de valores es demasiado pequeño para generar una matriz sin repeticiones\")\n",
        "\n",
        "    # Generamos una lista de números únicos\n",
        "    numeros_unicos = random.sample(range(min_val, max_val + 1), total_numeros)\n",
        "\n",
        "    # Convertimos la lista en una matriz\n",
        "    matriz = [numeros_unicos[i * columnas:(i + 1) * columnas] for i in range(filas)]\n",
        "    return matriz  # Retornamos la matriz generada\n",
        "\n",
        "\n",
        "def imprimir_matriz(matriz):\n",
        "    \"\"\"Imprime la matriz de forma legible.\"\"\"\n",
        "    # Iteramos sobre cada fila de la matriz para imprimirla de manera ordenada\n",
        "    for fila in matriz:\n",
        "        print(\"\\t\".join(map(str, fila)))  # Convertimos los números en texto y los separamos con tabulaciones\n",
        "\n",
        "# Parámetros de la matriz\n",
        "filas = 5  # Número de filas de la matriz\n",
        "columnas = 5  # Número de columnas de la matriz\n",
        "\n",
        "# Generar y mostrar la matriz\n",
        "matriz_aleatoria = generar_matriz(filas, columnas)  # Llamamos a la función para generar la matriz\n",
        "imprimir_matriz(matriz_aleatoria)  # Imprimimos la matriz generada"
      ],
      "metadata": {
        "id": "En5vj_wFIPzY",
        "outputId": "3a635600-0931-4997-ee5a-64a060481b6a",
        "colab": {
          "base_uri": "https://localhost:8080/"
        }
      },
      "execution_count": null,
      "outputs": [
        {
          "output_type": "stream",
          "name": "stdout",
          "text": [
            "71\t51\t40\t5\t62\n",
            "6\t85\t82\t23\t90\n",
            "81\t0\t39\t16\t59\n",
            "14\t30\t97\t92\t42\n",
            "36\t54\t96\t56\t68\n"
          ]
        }
      ]
    }
  ]
}