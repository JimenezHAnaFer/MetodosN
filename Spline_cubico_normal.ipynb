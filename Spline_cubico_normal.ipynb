{
  "nbformat": 4,
  "nbformat_minor": 0,
  "metadata": {
    "colab": {
      "provenance": [],
      "authorship_tag": "ABX9TyONQJ4SLdm8pv9KLX3mMVvy",
      "include_colab_link": true
    },
    "kernelspec": {
      "name": "python3",
      "display_name": "Python 3"
    },
    "language_info": {
      "name": "python"
    }
  },
  "cells": [
    {
      "cell_type": "markdown",
      "metadata": {
        "id": "view-in-github",
        "colab_type": "text"
      },
      "source": [
        "<a href=\"https://colab.research.google.com/github/JimenezHAnaFer/MetodosN/blob/main/Spline_cubico_normal.ipynb\" target=\"_parent\"><img src=\"https://colab.research.google.com/assets/colab-badge.svg\" alt=\"Open In Colab\"/></a>"
      ]
    },
    {
      "cell_type": "code",
      "execution_count": 24,
      "metadata": {
        "colab": {
          "base_uri": "https://localhost:8080/"
        },
        "id": "jndG3ozGeClh",
        "outputId": "51595f2b-b14d-4a59-d0b2-1305e340f7a7"
      },
      "outputs": [
        {
          "output_type": "stream",
          "name": "stdout",
          "text": [
            "Polinomios por tramos: \n",
            " x = [0.1,0.2]\n",
            "-146.666666666667*x**3 + 44.0*x**2 + 0.566666666666666*x + 1.1\n",
            " x = [0.2,0.3]\n",
            "283.333333333333*x**3 - 214.0*x**2 + 52.1666666666667*x - 2.34\n",
            " x = [0.3,0.4]\n",
            "-136.666666666667*x**3 + 164.0*x**2 - 61.2333333333333*x + 9.0\n"
          ]
        }
      ],
      "source": [
        "# Trazador cúbico natural\n",
        "# Condición: S''(x_0) = S''(x_n) = 0\n",
        "import numpy as np\n",
        "import sympy as sym\n",
        "import matplotlib.pyplot as plt\n",
        "\n",
        "def traza3natural(xi,yi):\n",
        "    n = len(xi)\n",
        "\n",
        "    # Valores h\n",
        "    h = np.zeros(n-1, dtype = float)\n",
        "    for j in range(0,n-1,1):\n",
        "        h[j] = xi[j+1] - xi[j]\n",
        "\n",
        "    # Sistema de ecuaciones\n",
        "    A = np.zeros(shape=(n-2,n-2), dtype = float)\n",
        "    B = np.zeros(n-2, dtype = float)\n",
        "    S = np.zeros(n, dtype = float)\n",
        "\n",
        "    A[0,0] = 2*(h[0]+h[1])\n",
        "    A[0,1] = h[1]\n",
        "    B[0] = 6*((yi[2]-yi[1])/h[1] - (yi[1]-yi[0])/h[0])\n",
        "\n",
        "    for i in range(1,n-3,1):\n",
        "        A[i,i-1] = h[i]\n",
        "        A[i,i] = 2*(h[i]+h[i+1])\n",
        "        A[i,i+1] = h[i+1]\n",
        "        factor21 = (yi[i+2]-yi[i+1])/h[i+1]\n",
        "        factor10 = (yi[i+1]-yi[i])/h[i]\n",
        "        B[i] = 6*(factor21 - factor10)\n",
        "\n",
        "    A[n-3,n-4] = h[n-3]\n",
        "    A[n-3,n-3] = 2*(h[n-3]+h[n-2])\n",
        "    factor12 = (yi[n-1]-yi[n-2])/h[n-2]\n",
        "    factor23 = (yi[n-2]-yi[n-3])/h[n-3]\n",
        "    B[n-3] = 6*(factor12 - factor23)\n",
        "\n",
        "    # Resolver sistema de ecuaciones S\n",
        "    r = np.linalg.solve(A,B)\n",
        "    for j in range(1,n-1,1):\n",
        "        S[j] = r[j-1]\n",
        "    S[0] = 0\n",
        "    S[n-1] = 0\n",
        "\n",
        "    # Coeficientes\n",
        "    a = np.zeros(n-1, dtype = float)\n",
        "    b = np.zeros(n-1, dtype = float)\n",
        "    c = np.zeros(n-1, dtype = float)\n",
        "    d = np.zeros(n-1, dtype = float)\n",
        "    for j in range(0,n-1,1):\n",
        "        a[j] = (S[j+1]-S[j])/(6*h[j])\n",
        "        b[j] = S[j]/2\n",
        "        factor10 = (yi[j+1]-yi[j])/h[j]\n",
        "        c[j] = factor10 - (2*h[j]*S[j]+h[j]*S[j+1])/6\n",
        "        d[j] = yi[j]\n",
        "\n",
        "    # Polinomio trazador\n",
        "    x = sym.Symbol('x')\n",
        "    px_tabla = []\n",
        "    for j in range(0,n-1,1):\n",
        "\n",
        "        pxtramo = a[j]*(x-xi[j])**3 + b[j]*(x-xi[j])**2\n",
        "        pxtramo = pxtramo + c[j]*(x-xi[j])+ d[j]\n",
        "\n",
        "        pxtramo = pxtramo.expand()\n",
        "        px_tabla.append(pxtramo)\n",
        "\n",
        "    return(px_tabla)\n",
        "\n",
        "# PROGRAMA -----------------------\n",
        "# INGRESO , Datos de prueba\n",
        "xi = np.array([0.1 , 0.2, 0.3, 0.4])\n",
        "fi = np.array([1.45, 1.8, 1.7, 2.0])\n",
        "muestras = 10 # entre cada par de puntos\n",
        "\n",
        "# PROCEDIMIENTO\n",
        "# Tabla de polinomios por tramos\n",
        "n = len(xi)\n",
        "px_tabla = traza3natural(xi,fi)\n",
        "\n",
        "# SALIDA\n",
        "print('Polinomios por tramos: ')\n",
        "for tramo in range(1,n,1):\n",
        "    print(' x = ['+str(xi[tramo-1])\n",
        "          +','+str(xi[tramo])+']')\n",
        "    print(str(px_tabla[tramo-1]))"
      ]
    },
    {
      "cell_type": "code",
      "source": [
        "# GRAFICA\n",
        "# Puntos para graficar cada tramo\n",
        "xtraza = np.array([])\n",
        "ytraza = np.array([])\n",
        "tramo = 1\n",
        "while not(tramo>=n):\n",
        "    a = xi[tramo-1]\n",
        "    b = xi[tramo]\n",
        "    xtramo = np.linspace(a,b,muestras)\n",
        "\n",
        "    # evalua polinomio del tramo\n",
        "    pxtramo = px_tabla[tramo-1]\n",
        "    pxt = sym.lambdify('x',pxtramo)\n",
        "    ytramo = pxt(xtramo)\n",
        "\n",
        "    # vectores de trazador en x,y\n",
        "    xtraza = np.concatenate((xtraza,xtramo))\n",
        "    ytraza = np.concatenate((ytraza,ytramo))\n",
        "    tramo = tramo + 1\n",
        "\n",
        "# Gráfica\n",
        "plt.plot(xi,fi,'ro', label='puntos')\n",
        "plt.plot(xtraza,ytraza, label='trazador'\n",
        "         , color='blue')\n",
        "plt.title('Trazadores Cúbicos Naturales')\n",
        "plt.xlabel('xi')\n",
        "plt.ylabel('px(xi)')\n",
        "plt.legend()\n",
        "plt.show()"
      ],
      "metadata": {
        "colab": {
          "base_uri": "https://localhost:8080/",
          "height": 472
        },
        "id": "KPoJ3-G-e6l1",
        "outputId": "431555e7-d7f7-48cd-db5c-bcc42af2679a"
      },
      "execution_count": 26,
      "outputs": [
        {
          "output_type": "display_data",
          "data": {
            "text/plain": [
              "<Figure size 640x480 with 1 Axes>"
            ],
            "image/png": "[encoded data removed]"
          },
          "metadata": {}
        }
      ]
    }
  ]
}