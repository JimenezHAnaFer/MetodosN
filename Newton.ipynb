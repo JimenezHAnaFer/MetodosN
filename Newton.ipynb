{
  "nbformat": 4,
  "nbformat_minor": 0,
  "metadata": {
    "colab": {
      "provenance": [],
      "authorship_tag": "ABX9TyNf+HFBlNXPPmBEQyKWQ0L9",
      "include_colab_link": true
    },
    "kernelspec": {
      "name": "python3",
      "display_name": "Python 3"
    },
    "language_info": {
      "name": "python"
    }
  },
  "cells": [
    {
      "cell_type": "markdown",
      "metadata": {
        "id": "view-in-github",
        "colab_type": "text"
      },
      "source": [
        "<a href=\"https://colab.research.google.com/github/JimenezHAnaFer/MetodosN/blob/main/Newton.ipynb\" target=\"_parent\"><img src=\"https://colab.research.google.com/assets/colab-badge.svg\" alt=\"Open In Colab\"/></a>"
      ]
    },
    {
      "cell_type": "code",
      "execution_count": 1,
      "metadata": {
        "colab": {
          "base_uri": "https://localhost:8080/"
        },
        "id": "RxjD4v6XGs_Z",
        "outputId": "04d83ba4-9fd6-4cdd-9800-2b36db78fb56"
      },
      "outputs": [
        {
          "output_type": "stream",
          "name": "stdout",
          "text": [
            "['xi', 'xnuevo', 'tramo']\n",
            "[[2.0000e+00 1.5000e+00 5.0000e-01]\n",
            " [1.5000e+00 1.3733e+00 1.2667e-01]\n",
            " [1.3733e+00 1.3653e+00 8.0713e-03]\n",
            " [1.3653e+00 1.3652e+00 3.2001e-05]]\n",
            "raiz en:  1.3652300139161466\n",
            "con error de:  3.200095847999407e-05\n"
          ]
        }
      ],
      "source": [
        "# Método de Newton-Raphson\n",
        "# Ejemplo 1 (Burden ejemplo 1 p.51/pdf.61)\n",
        "\n",
        "import numpy as np\n",
        "\n",
        "# INGRESO\n",
        "fx  = lambda x: x**3 + 4*(x**2) - 10\n",
        "dfx = lambda x: 3*(x**2) + 8*x\n",
        "\n",
        "x0 = 2\n",
        "tolera = 0.001\n",
        "\n",
        "# PROCEDIMIENTO\n",
        "tabla = []\n",
        "tramo = abs(2*tolera)\n",
        "xi = x0\n",
        "while (tramo>=tolera):\n",
        "    xnuevo = xi - fx(xi)/dfx(xi)\n",
        "    tramo  = abs(xnuevo-xi)\n",
        "    tabla.append([xi,xnuevo,tramo])\n",
        "    xi = xnuevo\n",
        "\n",
        "# convierte la lista a un arreglo.\n",
        "tabla = np.array(tabla)\n",
        "n = len(tabla)\n",
        "\n",
        "# SALIDA\n",
        "print(['xi', 'xnuevo', 'tramo'])\n",
        "np.set_printoptions(precision = 4)\n",
        "print(tabla)\n",
        "print('raiz en: ', xi)\n",
        "print('con error de: ',tramo)"
      ]
    }
  ]
}