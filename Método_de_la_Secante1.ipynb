{
  "nbformat": 4,
  "nbformat_minor": 0,
  "metadata": {
    "colab": {
      "provenance": [],
      "authorship_tag": "ABX9TyOgqgFF2CGlnuG36Ly2Zrq8",
      "include_colab_link": true
    },
    "kernelspec": {
      "name": "python3",
      "display_name": "Python 3"
    },
    "language_info": {
      "name": "python"
    }
  },
  "cells": [
    {
      "cell_type": "markdown",
      "metadata": {
        "id": "view-in-github",
        "colab_type": "text"
      },
      "source": [
        "<a href=\"https://colab.research.google.com/github/JimenezHAnaFer/MetodosN/blob/main/M%C3%A9todo_de_la_Secante1.ipynb\" target=\"_parent\"><img src=\"https://colab.research.google.com/assets/colab-badge.svg\" alt=\"Open In Colab\"/></a>"
      ]
    },
    {
      "cell_type": "code",
      "execution_count": 2,
      "metadata": {
        "id": "K7Yy0E2--Td2"
      },
      "outputs": [],
      "source": [
        "def secant(fun, x_a, x_b, steps=50):\n",
        "    # El método de la secante no se puede aplicar\n",
        "    if fun(x_a) * fun(x_b) >= 0:\n",
        "        print('El método de la secante no se puede aplicar')\n",
        "        return None\n",
        "    \n",
        "    # El método de la secante \n",
        "    for n in range(steps + 1):\n",
        "        # Cálculo de la secante\n",
        "        x_n = x_a - fun(x_a)*(x_b - x_a)/(fun(x_b) - fun(x_a))\n",
        "        \n",
        "        if fun(x_n) == 0:\n",
        "            return x_n\n",
        "        \n",
        "        if fun(x_a) * fun(x_n) < 0:\n",
        "            x_b = x_n\n",
        "        else:\n",
        "            x_a = x_n\n",
        "\n",
        "    return x_n"
      ]
    },
    {
      "cell_type": "code",
      "source": [
        "f = lambda x: x**2 + 2*x - 8\n",
        "\n",
        "secant(f, 0, 5,  5) # 1.995887594242632\n",
        "secant(f, 0, 5, 15) # 1.9999999303082814\n",
        "secant(f, 0, 5, 25) # 1.9999999999988198\n",
        "secant(f, 0, 5, 35) # 2.0"
      ],
      "metadata": {
        "colab": {
          "base_uri": "https://localhost:8080/"
        },
        "id": "_DCI6Nd_-yRm",
        "outputId": "5964aed3-56ab-4060-e62b-39b10885b075"
      },
      "execution_count": 3,
      "outputs": [
        {
          "output_type": "execute_result",
          "data": {
            "text/plain": [
              "2.0"
            ]
          },
          "metadata": {},
          "execution_count": 3
        }
      ]
    },
    {
      "cell_type": "code",
      "source": [
        "# Método de la secante\n",
        "# Ejemplo 1 (Burden ejemplo 1 p.51/pdf.61)\n",
        "\n",
        "import numpy as np\n",
        "\n",
        "def secante_tabla(fx,xa,tolera):\n",
        "    dx = 4*tolera\n",
        "    xb = xa + dx\n",
        "    tramo = dx\n",
        "    tabla = []\n",
        "    while (tramo>=tolera):\n",
        "        fa = fx(xa)\n",
        "        fb = fx(xb)\n",
        "        xc = xa - fa*(xb-xa)/(fb-fa)\n",
        "        tramo = abs(xc-xa)\n",
        "        \n",
        "        tabla.append([xa,xb,xc,tramo])\n",
        "        xb = xa\n",
        "        xa = xc\n",
        "\n",
        "    tabla = np.array(tabla)\n",
        "    return(tabla)\n",
        "\n",
        "# PROGRAMA ---------------------\n",
        "# INGRESO\n",
        "fx = lambda x: x**3 + 4*x**2 - 10\n",
        "\n",
        "a  = 1\n",
        "b  = 2\n",
        "xa = 1.5\n",
        "tolera = 0.001\n",
        "tramos = 100\n",
        "\n",
        "# PROCEDIMIENTO\n",
        "tabla = secante_tabla(fx,xa,tolera)\n",
        "n = len(tabla)\n",
        "raiz = tabla[n-1,2]\n",
        "\n",
        "# SALIDA\n",
        "np.set_printoptions(precision=4)\n",
        "print('[xa ,\\t xb , \\t xc , \\t tramo]')\n",
        "for i in range(0,n,1):\n",
        "    print(tabla[i])\n",
        "print('raiz en: ', raiz)"
      ],
      "metadata": {
        "colab": {
          "base_uri": "https://localhost:8080/"
        },
        "id": "roW8EBQi_VAr",
        "outputId": "1b636b4f-fb02-4b81-eaa5-4083ba29554d"
      },
      "execution_count": 4,
      "outputs": [
        {
          "output_type": "stream",
          "name": "stdout",
          "text": [
            "[xa ,\t xb , \t xc , \t tramo]\n",
            "[1.5    1.504  1.3736 0.1264]\n",
            "[1.3736 1.5    1.3658 0.0078]\n",
            "[1.3658e+00 1.3736e+00 1.3652e+00 5.2085e-04]\n",
            "raiz en:  1.3652321429167764\n"
          ]
        }
      ]
    },
    {
      "cell_type": "code",
      "source": [
        "# GRAFICA\n",
        "import matplotlib.pyplot as plt\n",
        "\n",
        "# Calcula los puntos a graficar\n",
        "xi = np.linspace(a,b,tramos+1)\n",
        "fi = fx(xi)\n",
        "dx = (b-xa)/2\n",
        "pendiente = (fx(xa+dx)-fx(xa))/(xa+dx-xa)\n",
        "b0 = fx(xa) - pendiente*xa\n",
        "tangentei = pendiente*xi+b0\n",
        "\n",
        "fxa = fx(xa)\n",
        "xb = xa + dx\n",
        "fxb = fx(xb)\n",
        "\n",
        "plt.plot(xi,fi, label='f(x)')\n",
        "\n",
        "plt.plot(xi,tangentei, label='secante')\n",
        "plt.plot(xa,fx(xa),'go', label='xa')\n",
        "plt.plot(xa+dx,fx(xa+dx),'ro', label='xb')\n",
        "plt.plot((-b0/pendiente),0,'yo', label='xc')\n",
        "\n",
        "plt.plot([xa,xa],[0,fxa],'m')\n",
        "plt.plot([xb,xb],[0,fxb],'m')\n",
        "\n",
        "plt.axhline(0, color='k')\n",
        "plt.title('Método de la Secante')\n",
        "plt.legend()\n",
        "plt.grid()\n",
        "plt.show()"
      ],
      "metadata": {
        "colab": {
          "base_uri": "https://localhost:8080/",
          "height": 452
        },
        "id": "YQvBkrO6_XOR",
        "outputId": "3ff40e57-e406-4f86-c7dd-2f60a02f5638"
      },
      "execution_count": 5,
      "outputs": [
        {
          "output_type": "display_data",
          "data": {
            "text/plain": [
              "<Figure size 640x480 with 1 Axes>"
            ],
            "image/png": "[encoded data removed]"
          },
          "metadata": {}
        }
      ]
    }
  ]
}