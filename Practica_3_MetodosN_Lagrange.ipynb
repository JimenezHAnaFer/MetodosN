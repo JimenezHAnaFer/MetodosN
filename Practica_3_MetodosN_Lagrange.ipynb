{
  "nbformat": 4,
  "nbformat_minor": 0,
  "metadata": {
    "colab": {
      "provenance": [],
      "authorship_tag": "ABX9TyPTRRLPjeh4wsbLjr67MLd2",
      "include_colab_link": true
    },
    "kernelspec": {
      "name": "python3",
      "display_name": "Python 3"
    },
    "language_info": {
      "name": "python"
    }
  },
  "cells": [
    {
      "cell_type": "markdown",
      "metadata": {
        "id": "view-in-github",
        "colab_type": "text"
      },
      "source": [
        "<a href=\"https://colab.research.google.com/github/JimenezHAnaFer/MetodosN/blob/main/Practica_3_MetodosN_Lagrange.ipynb\" target=\"_parent\"><img src=\"https://colab.research.google.com/assets/colab-badge.svg\" alt=\"Open In Colab\"/></a>"
      ]
    },
    {
      "cell_type": "markdown",
      "source": [
        "**Fórmula de diferencias de Newton (Interpolación de Lagrange)**"
      ],
      "metadata": {
        "id": "E77a5YbcmsOM"
      }
    },
    {
      "cell_type": "code",
      "source": [
        "# Interpolacion de Lagrange\n",
        "# divisores (solo para mostrar valores)\n",
        "import numpy as np\n",
        "import sympy as sym\n",
        "import matplotlib.pyplot as plt\n",
        "\n",
        "# En esta parte incluimos nuestros datos\n",
        "xi = np.array([0, 0.2, 0.3, 0.4])\n",
        "fi = np.array([1, 1.6, 1.7, 2.0])\n",
        "\n",
        "\n",
        "# Iniciamos a formar el Polinomio de Lagrange\n",
        "n = len(xi) #sacamos el num de valores en la cadena xi\n",
        "x = sym.Symbol('x')#forma de calcular de manera simbolica a x\n",
        "polinomio = 0\n",
        "divisorL = np.zeros(n, dtype = float)\n",
        "for i in range(0,n,1):\n",
        "\n",
        "    # Termino de Lagrange\n",
        "    numerador = 1\n",
        "    denominador = 1\n",
        "    for j  in range(0,n,1):\n",
        "        if (j!=i): #calculamos numerador y denominador por separado de acuerdo al ciclo\n",
        "            numerador = numerador*(x-xi[j]) #cada uno se guarda en numerador\n",
        "            denominador = denominador*(xi[i]-xi[j])\n",
        "    terminoLi = numerador/denominador #juntamos ambas variables de acuerdo a la formula\n",
        "\n",
        "    polinomio = polinomio + terminoLi*fi[i] #comenzamos a juntarlo para crear el polinomio de Lagrange\n",
        "    divisorL[i] = denominador #ingresamos lo del denominador en la lista\n",
        "\n",
        "# simplifica el polinomio\n",
        "polisimple = polinomio.expand()\n",
        "\n",
        "# Evaluación numérica\n",
        "px = sym.lambdify(x,polisimple)\n",
        "\n",
        "\n",
        "\n",
        "# SALIDA\n",
        "print('  X:   ',fi)\n",
        "print(' F(x): ',divisorL)\n",
        "print()\n",
        "print('Polinomio de Lagrange:')\n",
        "print(polinomio)\n",
        "print()\n",
        "print('Simplificado nuestro polinomio, obtenemos que: ')\n",
        "print(polisimple)"
      ],
      "metadata": {
        "colab": {
          "base_uri": "https://localhost:8080/"
        },
        "id": "ZxcqiCFZmiMc",
        "outputId": "9c2ba0db-6e2d-45c0-d2a8-a37dd31c0da8"
      },
      "execution_count": 3,
      "outputs": [
        {
          "output_type": "stream",
          "name": "stdout",
          "text": [
            "  X:    [1.  1.6 1.7 2. ]\n",
            " F(x):  [-0.024  0.004 -0.003  0.008]\n",
            "\n",
            "Polinomio de Lagrange:\n",
            "400.0*x*(x - 0.4)*(x - 0.3) - 566.666666666667*x*(x - 0.4)*(x - 0.2) + 250.0*x*(x - 0.3)*(x - 0.2) - 41.6666666666667*(x - 0.4)*(x - 0.3)*(x - 0.2)\n",
            "\n",
            "Simplificado nuestro polinomio, obtenemos que: \n",
            "41.6666666666667*x**3 - 27.5*x**2 + 6.83333333333334*x + 1.0\n"
          ]
        }
      ]
    }
  ]
}