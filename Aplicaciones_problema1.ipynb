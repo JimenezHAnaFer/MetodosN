{
  "nbformat": 4,
  "nbformat_minor": 0,
  "metadata": {
    "colab": {
      "provenance": [],
      "authorship_tag": "ABX9TyMPxbg0tihr6jqFx+rAbuTF",
      "include_colab_link": true
    },
    "kernelspec": {
      "name": "python3",
      "display_name": "Python 3"
    },
    "language_info": {
      "name": "python"
    }
  },
  "cells": [
    {
      "cell_type": "markdown",
      "metadata": {
        "id": "view-in-github",
        "colab_type": "text"
      },
      "source": [
        "<a href=\"https://colab.research.google.com/github/JimenezHAnaFer/MetodosN/blob/main/Aplicaciones_problema1.ipynb\" target=\"_parent\"><img src=\"https://colab.research.google.com/assets/colab-badge.svg\" alt=\"Open In Colab\"/></a>"
      ]
    },
    {
      "cell_type": "markdown",
      "source": [
        "**Aplicaciones**"
      ],
      "metadata": {
        "id": "-OYmPFVikJuF"
      }
    },
    {
      "cell_type": "markdown",
      "source": [
        "**MUERTE EN LA RESERVA**\n",
        "\n",
        "Durante una ronda de inspección po runa reserva, dos guardabosques descubrieron el cadaver de un jabalí. Un examen preliminar permitió concluir que el animal falleció instantaneamente a causa de un balazo de un cazador furtivo. Sospechando que el cazodor debía regresar a recoger a su presa, los guardias decidieron esperarlo no lejos del lugar del crimen. Al poco tiempo aparecion dos sujetos y se dirigieron sin rodeos hacia el jabalí. Al ser detenidos, los desconocidos negaron rotundamente su participación en el delito. Aunque los guardabosques tenían pruebas indirectas de su culpabilidad, para obtner una prueba fehaciente era necesario determinar el instante exacto en que el jabalí fue muerto.\n",
        "\n",
        "Conforme a la ley de radiación de calor, la velocidad de enfriamento de un cuerpo en el medio ambiente es propocional a la diferencia entre la temperatura del cuerpo y la temperatura del medio:\n",
        "\n"
      ],
      "metadata": {
        "id": "vFYy4zd1kQXT"
      }
    },
    {
      "cell_type": "markdown",
      "source": [
        "\n",
        "\n",
        "*   $\\frac{dx}{dt}=-k(x-a)$\n",
        "\n",
        "\n"
      ],
      "metadata": {
        "id": "As0Cf9xhqUNu"
      }
    },
    {
      "cell_type": "markdown",
      "source": [
        "Donde **x** es la temperatura del cuerpo en el instante **t**, a es la temperatura del medio ambiente y **k** es un factor positivo de proporcionalidad, **$x_0$** es la temperatura del cuerpo en el instante **t = 0**.\n",
        "\n",
        "a) Si en el instante en que fueron detenidos los sopechosos la temperatura *x* del cuerpo del jabalí era igual a 31°C y pasada una hora era igual a 29°C, entonces, considerando que en el instante del disparo *$x=37°C$* y *$a=29°C$*, y tomando en cuenta el instante del arresto como *$t=0$*, determinar el momento del disparo."
      ],
      "metadata": {
        "id": "XQP13u_gq9kO"
      }
    },
    {
      "cell_type": "markdown",
      "source": [
        "**Solución**"
      ],
      "metadata": {
        "id": "VwdZg69185dX"
      }
    },
    {
      "cell_type": "markdown",
      "source": [
        "\n",
        "\n",
        "*   Tenemos los siguentes datos\n",
        "\n",
        ">>1) $\\frac{dx}{dt}=-k(x-a)$\n",
        "\n",
        ">>2) $x(0)=31°C$ #temperatura del cuerpo del jabalí\n",
        "\n",
        ">>3) $x(1)=29°C$ #temperatura pasada una hora $t=1$\n",
        "\n",
        ">>4) $a=21°C$ #temperatura ambiente\n",
        "\n",
        ">>5) t #tiempo\n",
        "\n",
        ">>6) k #costante proporcional\n",
        "\n",
        ">>7) $x(t)=37°C$ #temperatura en el instante del disparo en el tiempo\n",
        "\n",
        "*   Resolvemos por EDO \"variables separables:\n",
        ">>$\\frac{dx}{dt}=-k(x-a)$\n",
        "\n",
        " >>$\\int\\frac{dt}{x-a}=-\\int kdt$\n",
        "\n",
        " >>$In(x-a)=-kt+C$\n",
        "\n",
        " >>$e^{In(x-a)}=e^{-kt+C}$\n",
        "\n",
        " >>$x-a=e^{-kt}e^{C}$\n",
        "\n",
        " >>**$x=a+Ce^{-kt}$**\n",
        "\n",
        "*   Usamos nuestras condiciones 2,3 y 4:\n",
        "\n",
        " >>I) $x(0)=21+Ce^{-k(0)}=31$\n",
        " >>   $21+C=31$\n",
        "\n",
        " >>   $C=10$\n",
        "\n",
        " >>II) $x(1)=21+Ce^{-k(1)}=29$, C=10\n",
        "\n",
        " >>$10e^{-k}=8$\n",
        "\n",
        " >>$e^{-k}=\\frac{8}{10}$, aplicando In en ambos lados\n",
        "\n",
        " >>$-k=In(\\frac{8}{10})$\n",
        "\n",
        " >>$k=-0.223144$\n",
        "\n",
        "\n",
        " *   Obteniendo nuestra constante k, sustituimos en 7 para encontrar t (tiempo):\n",
        "\n",
        " >>$x(t)=21+10e^{-0.223144t}=37$\n",
        "\n",
        " >>$10e^{-0.223144t}=16$\n",
        "\n",
        " >>$e^{-0.223144t}=\\frac{16}{10}$ #aplicamos In en ambos lados\n",
        "\n",
        " >>$-0.223144t=In(1.6)$\n",
        "\n",
        " >>$t=-\\frac{In(1.6)}{0.223144}=-2.106279$ #redondendo en 6 decimas\n",
        "\n",
        " Así, entre el instante del disparo y el instante en que fueron detenidos los sospechosos transcurrieron 2 horas y 6 minutos."
      ],
      "metadata": {
        "id": "EpAxhcTo9E2X"
      }
    },
    {
      "cell_type": "markdown",
      "source": [
        "b) En el caso cuando loa temperatura del aire varía con el tiempo, la ley de enfriamento del cuerpo en la ecuación diferencial lieal no homogénea:\n",
        "$\\frac{dx}{dt}=kx-ka(t)$.\n",
        "\n",
        "Donde $a(t)$ es la temperatura del aire en el instante t. Hagamos algunas conjeturas: en el instante de la detención de los sospechosos la temperatura del cuerpo del jabalí era igual a 30°C; el día del acontecimiento la temperatura del aire descendió cada hora después del medio día en 1°C y era igual a 0°C en el instante del hallazgo del cadáver; finalmente pongamos que al cabo de una hora de ser detectado el animal, su temperatura bajó hasta 25°C. Tomando $t=0$ como el instante del disparo, ausmiendo que entonces la temperatura corporal del jabalí era $x_0=37°C$ y denotando con t* el instante en que los guardabosques descubrieron el cadáver, obtenemos $a(t)=t*-t$. Hallar de nuevo el momento en que murió el jabalí."
      ],
      "metadata": {
        "id": "IGvKLthPMrCj"
      }
    },
    {
      "cell_type": "markdown",
      "source": [
        "**Solución**"
      ],
      "metadata": {
        "id": "dq8KDwuEThFV"
      }
    },
    {
      "cell_type": "markdown",
      "source": [
        "*   Tenemos los siguentes datos\n",
        "\n",
        ">>1) $\\frac{dx}{dt}=kx-ka(t)$\n",
        "\n",
        ">>2) $x(0)=30°C$ #temperatura en el instante de la detención\n",
        "\n",
        ">>3) $x(1)=25°C$ #temperatura pasada una hora $t=1$\n",
        "\n",
        ">>4) $a(t)=t^*-t$ #temperatura ambiente\n",
        "\n",
        ">>5) t #tiempo\n",
        "\n",
        ">>6) k #costante proporcional\n",
        "\n",
        ">>7) $x(t)=0°C$ #temperatura en el instante del hallazgo\n",
        "\n",
        "*   Resolvemos EDO\n",
        "  >> $\\frac{dx}{dt}=kx-ka(t)$ #Tiene forma de una ED.Lineal, pero no es homogenea\n",
        "\n",
        "  >> Se puede expresar como $x'+kx=ka(t)$ #Tiene la forma $y'+p(x)y=q(x)$\n",
        "\n",
        "  >> Como k es una constante tenemos que $x'+p(t)kx=ka(t)$\n",
        "  \n",
        "  >>Ocupando la formula $xμ=\\int q\\mu dx$ donde $μ=e^{∫p(t)dt}$, ajustando:\n",
        "  >>$xμ=∫a(t)μdx$\n",
        "\n",
        "  >>Calculamos $μ$\n",
        "  \n",
        "  >> $p(t)=k$ entonces $μ=e^{∫p(t)dt}=e^{∫kdt}=e^{k∫dt}=e^{kt}$\n",
        "\n",
        "  >>Regreando a nuestra formula:\n",
        "\n",
        "  >>$xμ=∫a(t)μdt$ sustituyendo $μ$ tenemos:\n",
        "\n",
        "  >>$xe^{kt}=∫a(t)e^{kt}dt$ $\\to$ $xe^{kt}=∫(t^*-t)e^{kt}dt$ $\\to$ $xe^{kt}=x_0-t*-\\frac{1}{k}+(t^*-t+\\frac{1}{k})e^{kt}$\n",
        "\n",
        "  >> Despejando $e^{kt}$ tenemos: $x=(x_0-t^*-\\frac{1}{k})e^{-kt}+t^*-t+\\frac{1}{k}$\n",
        "\n",
        "  >> Sustituyendo $x_0=37$ Tenemos: $x=(37-t^*-\\frac{1}{k})e^{-kt}+t^*-t+\\frac{1}{k}$......(*)\n",
        "\n",
        "*   Tomando en cuenta 2 y 3\n",
        " >>#Tomando en cuenta que $a(t)=t^*-t=0$\n",
        "\n",
        " >>$x(0)=(37-t^*-\\frac{1}{k})e^{-kt}+\\frac{1}{k}=30$\n",
        "\n",
        " >>#Tomando en cuenta que $a(t)=t^*-t=1$\n",
        "\n",
        " >>$x(1)=(37-t^*-\\frac{1}{k})e^{-k(t^*+1)}+\\frac{1}{k}=26$\n",
        "\n",
        " >>#Apartir de esta podemos obtener la ecuación respecto a k ($t=1$ y x=25):\n",
        "\n",
        " >>$(30-\\frac{1}{k})e^{-k}-26+\\frac{1}{k}=0$\n",
        "\n",
        " >>#Sea $t=0$, entonces $a(t)=-t$ lo que nos lleva a la siguiente ecuación:\n",
        "\n",
        " >>$\\frac{dx}{dt}+kx=-kt$ (con la condicion $x_0=30$ para $t=0$ despejamos x de nuestra ecuación anterior)\n",
        "\n",
        " >>$x=(30-\\frac{1}{k})e^{-kt}-t+\\frac{1}{k}$......(**)\n",
        "\n",
        " >>Usando nuetra ecuación (**), tomamos nuestra $x=37$ (temperatura corporal del jabalí)\n",
        "\n",
        " >>$(37k-1+kt)e^{kt}-30k+1=0$.....(***)\n",
        "\n",
        " *   Calcular nuestra constante K\n",
        "\n",
        " No podemos resolver algebraicamente respecto a nuestra constante k, sin embargo, podemos utilizar Métodos Numéricos para poder aproximar una raiz de nuestra constante. En este caso utilizaremos el metodo de Newton, implementado en un algoritmo en el siguiente algoritmo:"
      ],
      "metadata": {
        "id": "K9HwbNaOTm98"
      }
    },
    {
      "cell_type": "code",
      "source": [
        "# Método de Newton-Raphson\n",
        "# aproximemos nuestra k, que en este caso sera la variable x para terminos del codigo (k=x)\n",
        "\n",
        "import numpy as np\n",
        "import math\n",
        "# INGRESO\n",
        "# Nuestra función (*) la transformamos de manera que mas nos convenga\n",
        "fx  = lambda x: 30*x-1+(1-26*x)*math.exp(x)\n",
        "dfx = lambda x: 30-25*math.exp(x)-26*x*math.exp(x) #derivada de nuestra función\n",
        "\n",
        "x0 = 0.5 #Se obtiene del intervalo [0,1], (a+b)/2\n",
        "tolera = 0.000001\n",
        "\n",
        "# PROCEDIMIENTO\n",
        "tabla = []\n",
        "tramo = abs(2*tolera)\n",
        "xi = x0\n",
        "while (tramo>=tolera):\n",
        "    xnuevo = xi - fx(xi)/dfx(xi)\n",
        "    tramo  = abs(xnuevo-xi)\n",
        "    tabla.append([xi,xnuevo,tramo])\n",
        "    xi = xnuevo\n",
        "\n",
        "# convierte la lista a un arreglo.\n",
        "tabla = np.array(tabla)\n",
        "n = len(tabla)\n",
        "\n",
        "# SALIDA\n",
        "print(['xi', 'xnuevo', 'tramo'])\n",
        "np.set_printoptions(precision = 4)\n",
        "print(tabla)\n",
        "print('raiz en: ', xi)\n",
        "print('con error de: ',tramo)"
      ],
      "metadata": {
        "id": "CLasn2yvUyGu",
        "outputId": "c5f920a9-8d80-4947-9ed7-82366bb097a6",
        "colab": {
          "base_uri": "https://localhost:8080/"
        }
      },
      "execution_count": 2,
      "outputs": [
        {
          "output_type": "stream",
          "name": "stdout",
          "text": [
            "['xi', 'xnuevo', 'tramo']\n",
            "[[5.0000e-01 3.2284e-01 1.7716e-01]\n",
            " [3.2284e-01 2.2816e-01 9.4674e-02]\n",
            " [2.2816e-01 1.8850e-01 3.9665e-02]\n",
            " [1.8850e-01 1.7945e-01 9.0433e-03]\n",
            " [1.7945e-01 1.7895e-01 4.9988e-04]\n",
            " [1.7895e-01 1.7895e-01 1.5227e-06]\n",
            " [1.7895e-01 1.7895e-01 1.4124e-11]]\n",
            "raiz en:  0.17895246315275215\n",
            "con error de:  1.4123535674315235e-11\n"
          ]
        }
      ]
    },
    {
      "cell_type": "markdown",
      "source": [
        "Para acompletar la resolución del inciso b, debemos sustituir nuestra constante $k=0.178952$ (redondeando a 6 decimales), en nuestra ecuación (***), de ese modo, podemos resolverla para la obtención de nuestra \"t\""
      ],
      "metadata": {
        "id": "N_yyNyUxtUmM"
      }
    },
    {
      "cell_type": "code",
      "source": [
        "# Método de Newton-Raphson\n",
        "# Aproximando nuestra t, que en este caso sera la variable x para el algoritmo (t=x)\n",
        "\n",
        "import numpy as np\n",
        "import math\n",
        "# INGRESO\n",
        "k=0.178952\n",
        "fx  = lambda x: (((37*k)-1+(k*x))*math.exp(k*x))-(30*k)+1\n",
        "dfx = lambda x: (37*(k**2)*math.exp(k*x))+((k**2)*x*math.exp(k*x))\n",
        "\n",
        "x0 = -1.0\n",
        "tolera = 0.000001\n",
        "\n",
        "# PROCEDIMIENTO\n",
        "tabla = []\n",
        "tramo = abs(2*tolera)\n",
        "xi = x0\n",
        "while (tramo>=tolera):\n",
        "    xnuevo = xi - fx(xi)/dfx(xi)\n",
        "    tramo  = abs(xnuevo-xi)\n",
        "    tabla.append([xi,xnuevo,tramo])\n",
        "    xi = xnuevo\n",
        "\n",
        "# convierte la lista a un arreglo.\n",
        "tabla = np.array(tabla)\n",
        "n = len(tabla)\n",
        "\n",
        "# SALIDA\n",
        "print(['xi', 'xnuevo', 'tramo'])\n",
        "np.set_printoptions(precision = 4)\n",
        "print(tabla)\n",
        "print('raiz en: ', xi)\n",
        "print('con error de: ',tramo)"
      ],
      "metadata": {
        "colab": {
          "base_uri": "https://localhost:8080/"
        },
        "outputId": "42516f67-74fb-4c36-d8f1-ee6b882d8b13",
        "id": "CnFVRHT5JMeP"
      },
      "execution_count": 5,
      "outputs": [
        {
          "output_type": "stream",
          "name": "stdout",
          "text": [
            "['xi', 'xnuevo', 'tramo']\n",
            "[[-1.0000e+00 -1.1888e+00  1.8878e-01]\n",
            " [-1.1888e+00 -1.1926e+00  3.7818e-03]\n",
            " [-1.1926e+00 -1.1926e+00  1.4802e-06]\n",
            " [-1.1926e+00 -1.1926e+00  2.2626e-13]]\n",
            "raiz en:  -1.1925615459090273\n",
            "con error de:  2.262634524186069e-13\n"
          ]
        }
      ]
    },
    {
      "cell_type": "markdown",
      "source": [
        "Una vez aproximando nuestra t con el codigo del metodo de Newton, podemos obtener nuestra $t=-1.192562$ (redondeando a 6 cifras), por lo que el jabalí fue muerto aproximadamente 1 hora y 12 minutos antes que los guardabosques lo encontraran."
      ],
      "metadata": {
        "id": "PEPPJC5hP54V"
      }
    }
  ]
}