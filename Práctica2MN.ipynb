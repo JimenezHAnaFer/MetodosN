{
  "nbformat": 4,
  "nbformat_minor": 0,
  "metadata": {
    "colab": {
      "provenance": [],
      "toc_visible": true,
      "authorship_tag": "ABX9TyM83lsTt9v/Bzni+uYGWMzW",
      "include_colab_link": true
    },
    "kernelspec": {
      "name": "python3",
      "display_name": "Python 3"
    },
    "language_info": {
      "name": "python"
    }
  },
  "cells": [
    {
      "cell_type": "markdown",
      "metadata": {
        "id": "view-in-github",
        "colab_type": "text"
      },
      "source": [
        "<a href=\"https://colab.research.google.com/github/JimenezHAnaFer/MetodosN/blob/main/Pr%C3%A1ctica2MN.ipynb\" target=\"_parent\"><img src=\"https://colab.research.google.com/assets/colab-badge.svg\" alt=\"Open In Colab\"/></a>"
      ]
    },
    {
      "cell_type": "markdown",
      "source": [
        "**Método de Newton** "
      ],
      "metadata": {
        "id": "sTpYmm44Ub04"
      }
    },
    {
      "cell_type": "code",
      "source": [
        "# Método de Newton-Raphson\n",
        "# Ejemplo 1 (Burden ejemplo 1 p.51/pdf.61)\n",
        "\n",
        "import numpy as np\n",
        "\n",
        "# INGRESO\n",
        "fx  = lambda x: x**3 + 4*(x**2) - 10\n",
        "dfx = lambda x: 3*(x**2) + 8*x\n",
        "\n",
        "x0 = 2\n",
        "tolera = 0.001\n",
        "\n",
        "# PROCEDIMIENTO\n",
        "tabla = []\n",
        "tramo = abs(2*tolera)\n",
        "xi = x0\n",
        "while (tramo>=tolera):\n",
        "    xnuevo = xi - fx(xi)/dfx(xi)\n",
        "    tramo  = abs(xnuevo-xi)\n",
        "    tabla.append([xi,xnuevo,tramo])\n",
        "    xi = xnuevo\n",
        "\n",
        "# convierte la lista a un arreglo.\n",
        "tabla = np.array(tabla)\n",
        "n = len(tabla)\n",
        "\n",
        "# SALIDA\n",
        "print(['xi', 'xnuevo', 'tramo'])\n",
        "np.set_printoptions(precision = 4)\n",
        "print(tabla)\n",
        "print('raiz en: ', xi)\n",
        "print('con error de: ',tramo)"
      ],
      "metadata": {
        "id": "CLasn2yvUyGu"
      },
      "execution_count": null,
      "outputs": []
    },
    {
      "cell_type": "markdown",
      "source": [
        "**Método de la Secante**"
      ],
      "metadata": {
        "id": "PYikIhMtVl6t"
      }
    },
    {
      "cell_type": "code",
      "source": [
        "# Método de la secante\n",
        "# Ejemplo 1 (Burden ejemplo 1 p.51/pdf.61)\n",
        "\n",
        "import numpy as np\n",
        "\n",
        "def secante_tabla(fx,xa,tolera):\n",
        "    dx = 4*tolera\n",
        "    xb = xa + dx\n",
        "    tramo = dx\n",
        "    tabla = []\n",
        "    while (tramo>=tolera):\n",
        "        fa = fx(xa)\n",
        "        fb = fx(xb)\n",
        "        xc = xa - fa*(xb-xa)/(fb-fa)\n",
        "        tramo = abs(xc-xa)\n",
        "        \n",
        "        tabla.append([xa,xb,xc,tramo])\n",
        "        xb = xa\n",
        "        xa = xc\n",
        "\n",
        "    tabla = np.array(tabla)\n",
        "    return(tabla)\n",
        "\n",
        "# PROGRAMA ---------------------\n",
        "# INGRESO\n",
        "fx = lambda x: x**3 + 4*x**2 - 10\n",
        "\n",
        "a  = 1\n",
        "b  = 2\n",
        "xa = 1.5\n",
        "tolera = 0.001\n",
        "tramos = 100\n",
        "\n",
        "# PROCEDIMIENTO\n",
        "tabla = secante_tabla(fx,xa,tolera)\n",
        "n = len(tabla)\n",
        "raiz = tabla[n-1,2]\n",
        "\n",
        "# SALIDA\n",
        "np.set_printoptions(precision=4)\n",
        "print('[xa ,\\t xb , \\t xc , \\t tramo]')\n",
        "for i in range(0,n,1):\n",
        "    print(tabla[i])\n",
        "print('raiz en: ', raiz)"
      ],
      "metadata": {
        "id": "mVx94UQ9WDAh"
      },
      "execution_count": null,
      "outputs": []
    },
    {
      "cell_type": "code",
      "source": [
        "# GRAFICA\n",
        "import matplotlib.pyplot as plt\n",
        "\n",
        "# Calcula los puntos a graficar\n",
        "xi = np.linspace(a,b,tramos+1)\n",
        "fi = fx(xi)\n",
        "dx = (b-xa)/2\n",
        "pendiente = (fx(xa+dx)-fx(xa))/(xa+dx-xa)\n",
        "b0 = fx(xa) - pendiente*xa\n",
        "tangentei = pendiente*xi+b0\n",
        "\n",
        "fxa = fx(xa)\n",
        "xb = xa + dx\n",
        "fxb = fx(xb)\n",
        "\n",
        "plt.plot(xi,fi, label='f(x)')\n",
        "\n",
        "plt.plot(xi,tangentei, label='secante')\n",
        "plt.plot(xa,fx(xa),'go', label='xa')\n",
        "plt.plot(xa+dx,fx(xa+dx),'ro', label='xb')\n",
        "plt.plot((-b0/pendiente),0,'yo', label='xc')\n",
        "\n",
        "plt.plot([xa,xa],[0,fxa],'m')\n",
        "plt.plot([xb,xb],[0,fxb],'m')\n",
        "\n",
        "plt.axhline(0, color='k')\n",
        "plt.title('Método de la Secante')\n",
        "plt.legend()\n",
        "plt.grid()\n",
        "plt.show()"
      ],
      "metadata": {
        "id": "412tthYdWErE"
      },
      "execution_count": null,
      "outputs": []
    },
    {
      "cell_type": "markdown",
      "source": [
        "**Newton para Polinomios**"
      ],
      "metadata": {
        "id": "oDHyYKakWMN0"
      }
    },
    {
      "cell_type": "code",
      "source": [
        "a0  =  int ( input( \" \\n Ingresa el termino a la 0 >> \" ))\n",
        "a1  =  int ( input( \" \\n Ingresa el termino a la 1 >> \" ))\n",
        "a2  =  int ( input( \" \\n Ingresa el termino a la 2 >> \" ))\n",
        "a3  =  int ( input( \" \\n Ingresa el termino a la 3 >> \" ))\n",
        "a4  =  int ( input( \" \\n Ingresa el termino a la 4 >> \" ))\n",
        "\n",
        "a = [ a4 , a3 , a2 , a1 , a0 ]\n",
        "def  horner ( a , x ): #implementa metodo de horner\n",
        "        if  len ( a ) == 1 : #Ponemos los coeficientes del polinomio\n",
        "            return  a [ 0 ] #Y en X el valor a evaluar\n",
        "        else:\n",
        "            return a [ 0 ] +  x  *  horner ( a [ 1 :], x )\n",
        "x  =  1\n",
        "\n",
        "print('\\nEl resultado de la division sintetica es:', horner ( a , x ))"
      ],
      "metadata": {
        "colab": {
          "base_uri": "https://localhost:8080/"
        },
        "id": "Mzq_oQ8BWSKh",
        "outputId": "5e511ed1-9e3d-4800-85c2-44c9703de336"
      },
      "execution_count": 3,
      "outputs": [
        {
          "output_type": "stream",
          "name": "stdout",
          "text": [
            " \n",
            " Ingresa el termino a la 0 >> 3\n",
            " \n",
            " Ingresa el termino a la 1 >> 5\n",
            " \n",
            " Ingresa el termino a la 2 >> 7\n",
            " \n",
            " Ingresa el termino a la 3 >> 2\n",
            " \n",
            " Ingresa el termino a la 4 >> 0\n",
            "\n",
            "El resultado de la division sintetica es: 17\n"
          ]
        }
      ]
    },
    {
      "cell_type": "markdown",
      "source": [
        "**Muller**"
      ],
      "metadata": {
        "id": "ux8hURoZWS66"
      }
    },
    {
      "cell_type": "code",
      "source": [
        "import math\n",
        "\n",
        "def muller(f, x0, x1, x2, epsilon=1e-10, max_iter=100):\n",
        "    h1 = x1 - x0\n",
        "    h2 = x2 - x1\n",
        "    y1 = (f(x1) - f(x0)) / h1\n",
        "    y2 = (f(x2) - f(x1)) / h2\n",
        "    d = (y2 - y1) / (h2 + h1)\n",
        "    n_iter = 3\n",
        "    x = None\n",
        "\n",
        "    while n_iter <= max_iter:\n",
        "        b = y2 + h2*d\n",
        "        D = math.sqrt(b**2 - 4*f(x2)*d)\n",
        "\n",
        "        if abs(b-D) < abs(b+D):\n",
        "            E = b + D\n",
        "        else:\n",
        "            E = b - D\n",
        "\n",
        "        h = -2*f(x2)/E\n",
        "        p = x2 + h\n",
        "\n",
        "        if abs(h) < epsilon:\n",
        "            x = p\n",
        "            break\n",
        "\n",
        "        x0, x1, x2 = x1, x2, p\n",
        "        h1 = x1 - x0\n",
        "        h2 = x2 - x1\n",
        "        y1 = (f(x1) - f(x0)) / h1\n",
        "        y2 = (f(x2) - f(x1)) / h2\n",
        "        d = (y2 - y1) / (h2 + h1)\n",
        "        n_iter += 1\n",
        "\n",
        "    if x is None:\n",
        "        raise ValueError(\"El método no converge\")\n",
        "\n",
        "    return x\n",
        "\n",
        "\n",
        "\n",
        "fun = lambda x: x**2 + 2*x - 8\n",
        "\n",
        "muller(fun, 0, 4, 8)# 2.0\n",
        "muller(fun, -10, -6, -1) # -4.0"
      ],
      "metadata": {
        "id": "8mMWDTuxXYaA"
      },
      "execution_count": null,
      "outputs": []
    },
    {
      "cell_type": "code",
      "source": [
        "import numpy as np\n",
        "import matplotlib . pyplot as plt\n",
        "import math\n",
        "import cmath\n",
        "\n",
        "def muller (f , x0 , x1 , x2 , imax =100 , tol =1e-8):\n",
        "    cumple = False\n",
        "    print ('{:^10 s} {:^10 s} {:^10 s} {:^10 s} {:^10 s} {:^10 s} {:^10 s}←-{:^10 s}'.format ('x0 ','x1 ','x2 ','x3 ','f(x0)','f(x1)','f(x2)','f(x3←-)') )\n",
        "    k =0\n",
        "    while (not cumple and k < imax ) :\n",
        "        d1 =( f ( x1 ) -f ( x0 ) ) /( x1 - x0 )\n",
        "        d2 =( f ( x2 ) -f ( x1 ) ) /( x2 - x1 )\n",
        "        d3 =( d2 - d1 ) /( x2 - x0 )\n",
        "        a = d3\n",
        "        b = d1 - a *( x0 + x1 )\n",
        "        c = f ( x0 ) + x0 *( a * x1 - d1 )\n",
        "        den1 = - b + np . sqrt ( b **2 -4* a * c )\n",
        "        den2 = -b - np . sqrt ( b **2 -4* a * c )\n",
        "        if abs( den1 ) >abs( den2 ) :\n",
        "            x3 =2* c / den1\n",
        "        else:\n",
        "            x3 =2* c / den2\n",
        "\n",
        "        print ('{:10.5 f} {:10.5 f} {:10.5 f} {:10.5 f} {:10.5 f} {:10.5←-f} {:10.5 f} {:10.5 f}'.format ( x0 , x1 , x2 , x3 , f ( x0 ) ,f ( x1 ) ,f ( x2 ) ,f ( x3 ) ) )\n",
        "        x0 = x1\n",
        "        x1 = x2\n",
        "        x2 = x3\n",
        "        cumple =abs( f ( x3 ) ) < tol\n",
        "        k +=1\n",
        "    if k < imax:\n",
        "          return x3\n",
        "    else:\n",
        "          raise ValueError ('La funcion no converge ')\n",
        "\n",
        "# Funcion a evaluar\n",
        "def f ( x ) :\n",
        "  return x**2 + 2*x - 8\n",
        "  #return np . cos ( x ) -x **2\n",
        "\n",
        "\n",
        "def main () :\n",
        "  #valores iniciales\n",
        "  x0 =1\n",
        "  x1 =2\n",
        "  x2 =3\n",
        "# Llamada al algoritmo\n",
        "  raiz = muller (f , x0 , x1 , x2 ,100 ,1e-4)\n",
        "  print ('f ({: e }) ={: e }'. format ( raiz ,f ( raiz ) ) )\n",
        "\n",
        "  x = np . linspace ( -3 ,3 ,100)\n",
        "  y = f ( x)\n",
        "\n",
        "  fig = plt . figure ()\n",
        "  plt . plot (x , y )\n",
        "  plt . title ('f(x)')\n",
        "  plt . scatter ( raiz ,f ( raiz ) )\n",
        "  plt . text ( raiz , f ( raiz ) ,' Raiz '+str( raiz ) , color ='red ')\n",
        "  plt . grid ()\n",
        "  plt . show ()\n",
        "\n",
        "  if __name__ == \" __main__ \": main ()"
      ],
      "metadata": {
        "id": "eOORNGbgXmw7"
      },
      "execution_count": null,
      "outputs": []
    }
  ]
}