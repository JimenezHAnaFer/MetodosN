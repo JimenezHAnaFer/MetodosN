{
  "nbformat": 4,
  "nbformat_minor": 0,
  "metadata": {
    "colab": {
      "provenance": [],
      "authorship_tag": "ABX9TyMr6Na4x8hUsVOeUVUMdb77",
      "include_colab_link": true
    },
    "kernelspec": {
      "name": "python3",
      "display_name": "Python 3"
    },
    "language_info": {
      "name": "python"
    }
  },
  "cells": [
    {
      "cell_type": "markdown",
      "metadata": {
        "id": "view-in-github",
        "colab_type": "text"
      },
      "source": [
        "<a href=\"https://colab.research.google.com/github/JimenezHAnaFer/MetodosN/blob/main/Pratica3_MetodosN_Neville.ipynb\" target=\"_parent\"><img src=\"https://colab.research.google.com/assets/colab-badge.svg\" alt=\"Open In Colab\"/></a>"
      ]
    },
    {
      "cell_type": "markdown",
      "source": [
        "**Método de Neville**"
      ],
      "metadata": {
        "id": "4Qr3YXE2tSAP"
      }
    },
    {
      "cell_type": "code",
      "execution_count": 25,
      "metadata": {
        "colab": {
          "base_uri": "https://localhost:8080/",
          "height": 244
        },
        "id": "Y0vjVzYitKX1",
        "outputId": "81352eda-9347-49af-86c2-32c036cceca7"
      },
      "outputs": [
        {
          "output_type": "error",
          "ename": "TypeError",
          "evalue": "ignored",
          "traceback": [
            "\u001b[0;31m---------------------------------------------------------------------------\u001b[0m",
            "\u001b[0;31mTypeError\u001b[0m                                 Traceback (most recent call last)",
            "\u001b[0;32m<ipython-input-25-c1e11baa711e>\u001b[0m in \u001b[0;36m<cell line: 12>\u001b[0;34m()\u001b[0m\n\u001b[1;32m     10\u001b[0m \u001b[0mn\u001b[0m \u001b[0;34m=\u001b[0m \u001b[0mlen\u001b[0m\u001b[0;34m(\u001b[0m\u001b[0mx1\u001b[0m\u001b[0;34m)\u001b[0m \u001b[0;31m#num de datos de la cadena\u001b[0m\u001b[0;34m\u001b[0m\u001b[0;34m\u001b[0m\u001b[0m\n\u001b[1;32m     11\u001b[0m \u001b[0;34m\u001b[0m\u001b[0m\n\u001b[0;32m---> 12\u001b[0;31m \u001b[0mQ\u001b[0m\u001b[0;34m=\u001b[0m\u001b[0mnp\u001b[0m\u001b[0;34m.\u001b[0m\u001b[0mzeros\u001b[0m\u001b[0;34m(\u001b[0m\u001b[0mn\u001b[0m\u001b[0;34m,\u001b[0m\u001b[0mn\u001b[0m\u001b[0;34m,\u001b[0m \u001b[0mdtype\u001b[0m\u001b[0;34m=\u001b[0m\u001b[0mfloat\u001b[0m\u001b[0;34m)\u001b[0m \u001b[0;31m#creamos una matriz de nxn rellena de 0 de tipo float\u001b[0m\u001b[0;34m\u001b[0m\u001b[0;34m\u001b[0m\u001b[0m\n\u001b[0m\u001b[1;32m     13\u001b[0m \u001b[0;34m\u001b[0m\u001b[0m\n\u001b[1;32m     14\u001b[0m \u001b[0;32mfor\u001b[0m \u001b[0mi\u001b[0m \u001b[0;32min\u001b[0m \u001b[0mrange\u001b[0m\u001b[0;34m(\u001b[0m\u001b[0mn\u001b[0m\u001b[0;34m)\u001b[0m\u001b[0;34m:\u001b[0m\u001b[0;34m\u001b[0m\u001b[0;34m\u001b[0m\u001b[0m\n",
            "\u001b[0;31mTypeError\u001b[0m: argument for zeros() given by name ('dtype') and position (position 1)"
          ]
        }
      ],
      "source": [
        "import numpy as np\n",
        "import sympy as sym\n",
        "\n",
        "\n",
        "#Datos\n",
        "x =2.1 #numero que queremos aproximar\n",
        "x1=[2.0, 2.2, 2.3]\n",
        "y1 =[0.6931, 0.7885, 0.8329]\n",
        "\n",
        "n = len(x1) #num de datos de la cadena\n",
        "\n",
        "Q=np.zeros(n,n, dtype=float) #creamos una matriz de nxn rellena de 0 de tipo float\n",
        "\n",
        "for i in range(n):\n",
        "  Q[i][0]=y1[i] #rellenamos la fila i con los valores de y1 en la posicion que se encuentra\n",
        "for i in range(n):\n",
        "   for j in range(1, i+1):\n",
        "      Q[i][j]=((x-xi[i-j])*Q[i][j-1]-(x-xi[i])*Q[i-1][j-1])/(x[i]-xi[i-j])#formula\n",
        "\n",
        "K= Q[-1][-1]#buscamos el ultimo elemento ya que esa es la aproximacion\n",
        "print(\"El polinomio es: \", K)"
      ]
    },
    {
      "cell_type": "code",
      "source": [
        "## module neville\n",
        "import numpy as np\n",
        "import sympy as sym\n",
        "\n",
        "def neville(x_data, y_data, x):\n",
        "  \"\"\"p = neville(x_data, y_data, x)\n",
        "  Evalue el polinomio que quiere interpolar p(x).\"\"\"\n",
        "\n",
        "  x =2.1 #numero que queremos aproximar\n",
        "  x=[2.0, 2.2, 2.3]\n",
        "  y =[0.6931, 0.7885, 0.8329]\n",
        "\n",
        "  m = len(x1) #num de datos de la cadena\n",
        "\n",
        "  for k in range (1,m):\n",
        "    for i in range(m-k):\n",
        "      y[i] = ((x - x_data[i+k])*y[i] + (x_data[i] - x)*y[i+1])/ \\\n",
        "      (x_data[i]-x_data[i+k])\n",
        "      return(y[0])\n",
        "\n",
        "      K= y[-1][-1]#buscamos el ultimo elemento ya que esa es la aproximacion\n",
        "      print(\"El polinomio es: \",k )"
      ],
      "metadata": {
        "id": "N3tmP7NevE-u"
      },
      "execution_count": 26,
      "outputs": []
    }
  ]
}